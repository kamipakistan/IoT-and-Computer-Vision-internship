{
 "cells": [
  {
   "cell_type": "markdown",
   "id": "12b8f92b-4aba-471f-aa88-474bccaece1a",
   "metadata": {},
   "source": [
    "# **Color Identification in Images**"
   ]
  },
  {
   "cell_type": "code",
   "execution_count": 1,
   "id": "dbe29f54-4250-42af-9587-35d0f468429a",
   "metadata": {},
   "outputs": [],
   "source": [
    "import cv2\n",
    "import pandas as pd\n",
    "import matplotlib.pyplot as plt"
   ]
  },
  {
   "cell_type": "code",
   "execution_count": 2,
   "id": "41b29426-7247-4a48-892a-ddd08361589b",
   "metadata": {},
   "outputs": [
    {
     "data": {
      "image/png": "[encoded data removed]",
      "text/plain": [
       "<Figure size 432x288 with 1 Axes>"
      ]
     },
     "metadata": {
      "needs_background": "light"
     },
     "output_type": "display_data"
    }
   ],
   "source": [
    "image_location = '1024px-RBG_color_wheel.svg.png'\n",
    "\n",
    "img = cv2.imread(image_location)\n",
    "imgRGB = cv2.cvtColor(img, cv2.COLOR_BGR2RGB)\n",
    "plt.imshow(imgRGB)\n",
    "plt.show()"
   ]
  },
  {
   "cell_type": "markdown",
   "id": "24acc275-a8ad-431e-869c-3227f537a5b3",
   "metadata": {},
   "source": [
    "**Now we will read the color CSV file**"
   ]
  },
  {
   "cell_type": "code",
   "execution_count": 3,
   "id": "02f3d0f3-74f3-4e2a-b1ff-02763f54108f",
   "metadata": {},
   "outputs": [],
   "source": [
    "colorsDataSet = pd.read_csv('colors.csv', header=None)"
   ]
  },
  {
   "cell_type": "code",
   "execution_count": 4,
   "id": "903be794-9801-4169-80cb-f95d0c61d590",
   "metadata": {},
   "outputs": [
    {
     "data": {
      "text/html": [
       "<div>\n",
       "<style scoped>\n",
       "    .dataframe tbody tr th:only-of-type {\n",
       "        vertical-align: middle;\n",
       "    }\n",
       "\n",
       "    .dataframe tbody tr th {\n",
       "        vertical-align: top;\n",
       "    }\n",
       "\n",
       "    .dataframe thead th {\n",
       "        text-align: right;\n",
       "    }\n",
       "</style>\n",
       "<table border=\"1\" class=\"dataframe\">\n",
       "  <thead>\n",
       "    <tr style=\"text-align: right;\">\n",
       "      <th></th>\n",
       "      <th>0</th>\n",
       "      <th>1</th>\n",
       "      <th>2</th>\n",
       "      <th>3</th>\n",
       "      <th>4</th>\n",
       "      <th>5</th>\n",
       "    </tr>\n",
       "  </thead>\n",
       "  <tbody>\n",
       "    <tr>\n",
       "      <th>0</th>\n",
       "      <td>air_force_blue_raf</td>\n",
       "      <td>Air Force Blue (Raf)</td>\n",
       "      <td>#5d8aa8</td>\n",
       "      <td>93</td>\n",
       "      <td>138</td>\n",
       "      <td>168</td>\n",
       "    </tr>\n",
       "    <tr>\n",
       "      <th>1</th>\n",
       "      <td>air_force_blue_usaf</td>\n",
       "      <td>Air Force Blue (Usaf)</td>\n",
       "      <td>#00308f</td>\n",
       "      <td>0</td>\n",
       "      <td>48</td>\n",
       "      <td>143</td>\n",
       "    </tr>\n",
       "  </tbody>\n",
       "</table>\n",
       "</div>"
      ],
      "text/plain": [
       "                     0                      1        2   3    4    5\n",
       "0   air_force_blue_raf   Air Force Blue (Raf)  #5d8aa8  93  138  168\n",
       "1  air_force_blue_usaf  Air Force Blue (Usaf)  #00308f   0   48  143"
      ]
     },
     "execution_count": 4,
     "metadata": {},
     "output_type": "execute_result"
    }
   ],
   "source": [
    "colorsDataSet.head(2)"
   ]
  },
  {
   "cell_type": "markdown",
   "id": "da84737a-88f9-4daf-a7d0-f9a1ba81db12",
   "metadata": {},
   "source": [
    "**give the heading name to every column**"
   ]
  },
  {
   "cell_type": "code",
   "execution_count": 5,
   "id": "39132f6d-bed2-4221-8710-e75b14ad6d38",
   "metadata": {},
   "outputs": [
    {
     "data": {
      "text/html": [
       "<div>\n",
       "<style scoped>\n",
       "    .dataframe tbody tr th:only-of-type {\n",
       "        vertical-align: middle;\n",
       "    }\n",
       "\n",
       "    .dataframe tbody tr th {\n",
       "        vertical-align: top;\n",
       "    }\n",
       "\n",
       "    .dataframe thead th {\n",
       "        text-align: right;\n",
       "    }\n",
       "</style>\n",
       "<table border=\"1\" class=\"dataframe\">\n",
       "  <thead>\n",
       "    <tr style=\"text-align: right;\">\n",
       "      <th></th>\n",
       "      <th>Color</th>\n",
       "      <th>Name of color</th>\n",
       "      <th>Hexadecimal code</th>\n",
       "      <th>R</th>\n",
       "      <th>G</th>\n",
       "      <th>B</th>\n",
       "    </tr>\n",
       "  </thead>\n",
       "  <tbody>\n",
       "    <tr>\n",
       "      <th>0</th>\n",
       "      <td>air_force_blue_raf</td>\n",
       "      <td>Air Force Blue (Raf)</td>\n",
       "      <td>#5d8aa8</td>\n",
       "      <td>93</td>\n",
       "      <td>138</td>\n",
       "      <td>168</td>\n",
       "    </tr>\n",
       "    <tr>\n",
       "      <th>1</th>\n",
       "      <td>air_force_blue_usaf</td>\n",
       "      <td>Air Force Blue (Usaf)</td>\n",
       "      <td>#00308f</td>\n",
       "      <td>0</td>\n",
       "      <td>48</td>\n",
       "      <td>143</td>\n",
       "    </tr>\n",
       "    <tr>\n",
       "      <th>2</th>\n",
       "      <td>air_superiority_blue</td>\n",
       "      <td>Air Superiority Blue</td>\n",
       "      <td>#72a0c1</td>\n",
       "      <td>114</td>\n",
       "      <td>160</td>\n",
       "      <td>193</td>\n",
       "    </tr>\n",
       "    <tr>\n",
       "      <th>3</th>\n",
       "      <td>alabama_crimson</td>\n",
       "      <td>Alabama Crimson</td>\n",
       "      <td>#a32638</td>\n",
       "      <td>163</td>\n",
       "      <td>38</td>\n",
       "      <td>56</td>\n",
       "    </tr>\n",
       "    <tr>\n",
       "      <th>4</th>\n",
       "      <td>alice_blue</td>\n",
       "      <td>Alice Blue</td>\n",
       "      <td>#f0f8ff</td>\n",
       "      <td>240</td>\n",
       "      <td>248</td>\n",
       "      <td>255</td>\n",
       "    </tr>\n",
       "  </tbody>\n",
       "</table>\n",
       "</div>"
      ],
      "text/plain": [
       "                  Color          Name of color Hexadecimal code    R    G    B\n",
       "0    air_force_blue_raf   Air Force Blue (Raf)          #5d8aa8   93  138  168\n",
       "1   air_force_blue_usaf  Air Force Blue (Usaf)          #00308f    0   48  143\n",
       "2  air_superiority_blue   Air Superiority Blue          #72a0c1  114  160  193\n",
       "3       alabama_crimson        Alabama Crimson          #a32638  163   38   56\n",
       "4            alice_blue             Alice Blue          #f0f8ff  240  248  255"
      ]
     },
     "execution_count": 5,
     "metadata": {},
     "output_type": "execute_result"
    }
   ],
   "source": [
    "Columns_Names = [\"Color\", \"Name of color\", \"Hexadecimal code\", \"R\", \"G\", \"B\"]\n",
    "\n",
    "colorsDataSet.columns = Columns_Names\n",
    "\n",
    "colorsDataSet.head()"
   ]
  },
  {
   "cell_type": "code",
   "execution_count": 6,
   "id": "d82a3080-b20c-4ee1-8781-ae535df505b7",
   "metadata": {},
   "outputs": [
    {
     "data": {
      "text/plain": [
       "(865, 6)"
      ]
     },
     "execution_count": 6,
     "metadata": {},
     "output_type": "execute_result"
    }
   ],
   "source": [
    "colorsDataSet.shape"
   ]
  },
  {
   "cell_type": "code",
   "execution_count": 7,
   "id": "d8e922d6-bb42-4efc-b8f4-1b0dccda935b",
   "metadata": {},
   "outputs": [
    {
     "data": {
      "text/plain": [
       "'All the Colors Combination  = 16581375'"
      ]
     },
     "execution_count": 7,
     "metadata": {},
     "output_type": "execute_result"
    }
   ],
   "source": [
    "f\"All the Colors Combination  = {255*255*255}\""
   ]
  },
  {
   "cell_type": "markdown",
   "id": "ee8a153c-be9b-4935-9965-f8f3ce93c1fe",
   "metadata": {},
   "source": [
    "**Let’s declare some global variables which will be accessible along with the whole code**"
   ]
  },
  {
   "cell_type": "code",
   "execution_count": 8,
   "id": "de6fc4a1-af4e-4976-908e-9f2b8c2c6d77",
   "metadata": {},
   "outputs": [],
   "source": [
    "flag_variable = False  # Clicked Value\n",
    "r = g = b = x_coordinate = y_coordinate = 0"
   ]
  },
  {
   "cell_type": "markdown",
   "id": "c9b7f200-8af1-4e07-b19c-f108c5721332",
   "metadata": {},
   "source": [
    "### **Function to  calculate minimum distance from all colors and get the most matching color**"
   ]
  },
  {
   "cell_type": "code",
   "execution_count": 9,
   "id": "196de3c5-f72d-411b-8d50-e34cb672855c",
   "metadata": {},
   "outputs": [],
   "source": [
    "def get_color_name(R, G, B):\n",
    "    minimum_distance= 10000\n",
    "    \n",
    "    for i in range(len(colorsDataSet)):\n",
    "        distance = abs(R - int(colorsDataSet.loc[i, \"R\"])) + abs(G - int(colorsDataSet.loc[i, \"G\"])) + abs(B - int(colorsDataSet.loc[i, \"B\"]))\n",
    "        \n",
    "        if distance <= minimum_distance:\n",
    "            minimum_distance = distance\n",
    "            color_name = colorsDataSet.loc[i, \"Name of color\"]\n",
    "    return color_name"
   ]
  },
  {
   "cell_type": "markdown",
   "id": "14b8dabc-4729-48df-ae4b-88831daee7e2",
   "metadata": {},
   "source": [
    "### **Now we will create the function to get the X, Y  coordinates of Image When mouse is  double clicked**"
   ]
  },
  {
   "cell_type": "code",
   "execution_count": 10,
   "id": "90c91b10-fa66-4c3e-be1d-045702891998",
   "metadata": {},
   "outputs": [],
   "source": [
    "def getClickedParams(event, x_coordinate, y_coordinate, flags, parameters):\n",
    "    if event == cv2.EVENT_LBUTTONDBLCLK:\n",
    "        global b, g, r, x_position, y_position, flag_variable\n",
    "        \n",
    "        flag_variable = True\n",
    "        x_position = x_coordinate\n",
    "        y_position = y_coordinate\n",
    "        \n",
    "        b, g, r = img[y_coordinate, x_coordinate]\n",
    "        b = int(b)\n",
    "        g = int(g)\n",
    "        r = int(r)"
   ]
  },
  {
   "cell_type": "markdown",
   "id": "3acec414-7642-4b72-8889-ef3e41667da1",
   "metadata": {},
   "source": [
    "**Mouse call back: This is the cv2 method that will detect the click from the user (left double click) and call the draw function.**"
   ]
  },
  {
   "cell_type": "code",
   "execution_count": 11,
   "id": "497e8cf3-1530-406a-aa42-eb21dfca472f",
   "metadata": {},
   "outputs": [],
   "source": [
    "cv2.namedWindow('image')\n",
    "cv2.setMouseCallback('image', getClickedParams)"
   ]
  },
  {
   "cell_type": "code",
   "execution_count": 12,
   "id": "3484873a-5253-4951-b1c7-7fd6553dab96",
   "metadata": {},
   "outputs": [],
   "source": [
    "while True:\n",
    "\n",
    "    cv2.imshow(\"image\", img)\n",
    "    if flag_variable:\n",
    "        \n",
    "        # Draw the Rectangle Filled With the Specified Color\n",
    "        cv2.rectangle(img, (20, 20), (750, 60), (b, g, r), cv2.FILLED)\n",
    "\n",
    "        # Getting the color Name along with the R, G and B Values\n",
    "        color_name = get_color_name(r, g, b) + ' R=' + str(r) + ' G=' + str(g) + ' B=' + str(b)\n",
    "\n",
    "        # cv2.putText(img,text,origin,font,fontScale,color,thickness)\n",
    "        cv2.putText(img, color_name, (50, 50), cv2.FONT_HERSHEY_SIMPLEX,\n",
    "                    0.8, (255, 255, 255), 2)\n",
    "\n",
    "        # If we have the Light color it will display the text in black\n",
    "        if r + g + b >= 600:\n",
    "            cv2.putText(img, color_name, (50, 50), cv2.FONT_HERSHEY_SIMPLEX,\n",
    "                        0.8, (0, 0, 0), 2)\n",
    "        \n",
    "        # After all the cation the Clicked Event will be set to False\n",
    "        flag_variable = False\n",
    "\n",
    "    # Break the loop when user hits 'q' key\n",
    "    if cv2.waitKey(20) & 0xFF == ord(\"q\"):\n",
    "        break\n",
    "\n",
    "cv2.destroyAllWindows()"
   ]
  }
 ],
 "metadata": {
  "kernelspec": {
   "display_name": "Python 3",
   "language": "python",
   "name": "python3"
  },
  "language_info": {
   "codemirror_mode": {
    "name": "ipython",
    "version": 3
   },
   "file_extension": ".py",
   "mimetype": "text/x-python",
   "name": "python",
   "nbconvert_exporter": "python",
   "pygments_lexer": "ipython3",
   "version": "3.8.10"
  }
 },
 "nbformat": 4,
 "nbformat_minor": 5
}
