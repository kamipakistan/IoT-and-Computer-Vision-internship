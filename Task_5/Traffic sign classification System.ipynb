{
 "cells": [
  {
   "cell_type": "markdown",
   "id": "e6ee2137-c39b-4adc-ac16-f326fc58cd7a",
   "metadata": {},
   "source": [
    "# **Traffic sign classification System**"
   ]
  },
  {
   "cell_type": "code",
   "execution_count": 1,
   "id": "1baae0f7-4628-4996-bb92-2e52b9a3d952",
   "metadata": {},
   "outputs": [],
   "source": [
    "import tensorflow as tf\n",
    "from tensorflow import keras"
   ]
  },
  {
   "cell_type": "code",
   "execution_count": 2,
   "id": "59af1761-2d6c-49ff-a293-c07bfaaac767",
   "metadata": {},
   "outputs": [],
   "source": [
    "import matplotlib.pyplot as plt\n",
    "import seaborn as sns\n",
    "import pandas as pd\n",
    "import numpy as np\n",
    "import os"
   ]
  },
  {
   "cell_type": "code",
   "execution_count": 3,
   "id": "2a99de89-ecdc-4208-a601-adf0d2470988",
   "metadata": {},
   "outputs": [],
   "source": [
    "import cv2"
   ]
  },
  {
   "cell_type": "code",
   "execution_count": 4,
   "id": "a088f201-863e-49ee-b77b-61db6312a75d",
   "metadata": {},
   "outputs": [],
   "source": [
    "path = \"Data\""
   ]
  },
  {
   "cell_type": "markdown",
   "id": "3da7ac49-b5dd-4628-b04b-84039885c279",
   "metadata": {},
   "source": [
    "### Importing  Images"
   ]
  },
  {
   "cell_type": "code",
   "execution_count": 12,
   "id": "47cb7b17-4bff-4b61-8444-cb4f99ff818e",
   "metadata": {},
   "outputs": [
    {
     "name": "stdout",
     "output_type": "stream",
     "text": [
      "Total Classes Detected: 43\n"
     ]
    }
   ],
   "source": [
    "images = []\n",
    "classNo = []\n",
    "\n",
    "dataSetPath = \"Data\"\n",
    "count = 0\n",
    "for folder in (os.listdir(dataSetPath)):\n",
    "    inner = f\"{dataSetPath}/{folder}\"\n",
    "    for image in os.listdir(inner):\n",
    "        imagePath = f\"{inner}/{image}\"\n",
    "        img = cv2.imread(imagePath)\n",
    "        imgGray = cv2.cvtColor(img, cv2.COLOR_BGR2GRAY)\n",
    "        images.append(imgGray)\n",
    "        classNo.append(int(folder))\n",
    "        \n",
    "print(\"Total Classes Detected:\",len(set(classNo)))\n",
    "images = np.array(images)\n",
    "classNo = np.array(classNo)"
   ]
  },
  {
   "cell_type": "code",
   "execution_count": 13,
   "id": "7775aa04-115a-4acb-87ce-5ecf5afb703f",
   "metadata": {},
   "outputs": [
    {
     "name": "stderr",
     "output_type": "stream",
     "text": [
      "C:\\Users\\Hp\\anaconda3\\envs\\NCAI\\lib\\site-packages\\seaborn\\_decorators.py:36: FutureWarning: Pass the following variable as a keyword arg: x. From version 0.12, the only valid positional argument will be `data`, and passing other arguments without an explicit keyword will result in an error or misinterpretation.\n",
      "  warnings.warn(\n"
     ]
    },
    {
     "data": {
      "text/plain": [
       "<AxesSubplot:ylabel='count'>"
      ]
     },
     "execution_count": 13,
     "metadata": {},
     "output_type": "execute_result"
    },
    {
     "data": {
      "image/png": "[encoded data removed]",
      "text/plain": [
       "<Figure size 720x360 with 1 Axes>"
      ]
     },
     "metadata": {
      "needs_background": "light"
     },
     "output_type": "display_data"
    }
   ],
   "source": [
    "plt.figure(figsize = (10, 5))\n",
    "sns.countplot(classNo)"
   ]
  },
  {
   "cell_type": "code",
   "execution_count": 15,
   "id": "eaba207b-a656-41c8-87a5-2a7599621c31",
   "metadata": {},
   "outputs": [
    {
     "data": {
      "text/plain": [
       "<matplotlib.image.AxesImage at 0x28c6d629e80>"
      ]
     },
     "execution_count": 15,
     "metadata": {},
     "output_type": "execute_result"
    },
    {
     "data": {
      "image/png": "[encoded data removed]",
      "text/plain": [
       "<Figure size 432x288 with 1 Axes>"
      ]
     },
     "metadata": {
      "needs_background": "light"
     },
     "output_type": "display_data"
    }
   ],
   "source": [
    "plt.imshow(images[0])"
   ]
  },
  {
   "cell_type": "code",
   "execution_count": 17,
   "id": "75c64032-5803-471d-bf71-ae13f2e473ab",
   "metadata": {},
   "outputs": [
    {
     "data": {
      "text/plain": [
       "(34799, 32, 32)"
      ]
     },
     "execution_count": 17,
     "metadata": {},
     "output_type": "execute_result"
    }
   ],
   "source": [
    "images.shape"
   ]
  },
  {
   "cell_type": "code",
   "execution_count": 18,
   "id": "cb92c143-3412-49f8-b09e-4d617015ae9f",
   "metadata": {},
   "outputs": [],
   "source": [
    "images = images.reshape(34799, 32, 32, 1)"
   ]
  },
  {
   "cell_type": "code",
   "execution_count": 19,
   "id": "93dae99c-1980-4c03-b158-73ff9e772265",
   "metadata": {},
   "outputs": [
    {
     "data": {
      "text/plain": [
       "(32, 32, 1)"
      ]
     },
     "execution_count": 19,
     "metadata": {},
     "output_type": "execute_result"
    }
   ],
   "source": [
    "images[0].shape"
   ]
  },
  {
   "cell_type": "code",
   "execution_count": 20,
   "id": "2cefb5f3-8522-47e2-a1b0-e4e831b1527d",
   "metadata": {},
   "outputs": [],
   "source": [
    "from sklearn.model_selection import train_test_split\n",
    "\n",
    "X_train_, X_test, y_train_, y_test = train_test_split(images, classNo,\n",
    "                                                      test_size = 0.2,\n",
    "                                                      random_state = 30)"
   ]
  },
  {
   "cell_type": "code",
   "execution_count": 21,
   "id": "c1613d88-e793-4db6-b7ea-7edb320696ab",
   "metadata": {},
   "outputs": [],
   "source": [
    "X_train, X_valid, y_train, y_valid = train_test_split(X_train_, y_train_,\n",
    "                                                      test_size = 0.2,\n",
    "                                                      random_state = 30)"
   ]
  },
  {
   "cell_type": "code",
   "execution_count": 24,
   "id": "dab5c5af-f383-4629-87e2-bd44228d15ad",
   "metadata": {},
   "outputs": [],
   "source": [
    "# Scaling the values\n",
    "X_train = X_train/255.0\n",
    "X_valid = X_valid/255.0\n",
    "X_test = X_test/255.0"
   ]
  },
  {
   "cell_type": "code",
   "execution_count": 29,
   "id": "dddc4726-d990-435a-a7e4-a198b46cd094",
   "metadata": {},
   "outputs": [],
   "source": [
    "from keras.utils.np_utils import to_categorical\n",
    "y_train_n = to_categorical(y_train,43)\n",
    "y_validation = to_categorical(y_valid,43)\n",
    "y_test_n = to_categorical(y_test,43)"
   ]
  },
  {
   "cell_type": "code",
   "execution_count": 40,
   "id": "ee3d6a19-aef3-4741-abb0-d9a56804a6e7",
   "metadata": {},
   "outputs": [
    {
     "data": {
      "text/plain": [
       "array([0., 0., 0., 0., 0., 0., 0., 0., 0., 0., 0., 0., 0., 0., 0., 0., 0.,\n",
       "       0., 0., 0., 0., 0., 0., 0., 0., 0., 0., 0., 0., 0., 0., 0., 0., 0.,\n",
       "       0., 1., 0., 0., 0., 0., 0., 0., 0.], dtype=float32)"
      ]
     },
     "execution_count": 40,
     "metadata": {},
     "output_type": "execute_result"
    }
   ],
   "source": [
    "y_train_n[0]"
   ]
  },
  {
   "cell_type": "code",
   "execution_count": 39,
   "id": "00a692e2-7e21-4347-a805-1c26aeabc524",
   "metadata": {},
   "outputs": [
    {
     "data": {
      "text/plain": [
       "35"
      ]
     },
     "execution_count": 39,
     "metadata": {},
     "output_type": "execute_result"
    }
   ],
   "source": [
    "np.argmax(y_train_n[0])"
   ]
  },
  {
   "cell_type": "code",
   "execution_count": 38,
   "id": "23c4e555-d873-45e3-bce8-d51bb83814ff",
   "metadata": {},
   "outputs": [
    {
     "data": {
      "text/plain": [
       "35"
      ]
     },
     "execution_count": 38,
     "metadata": {},
     "output_type": "execute_result"
    }
   ],
   "source": [
    "y_train[0]"
   ]
  },
  {
   "cell_type": "code",
   "execution_count": 34,
   "id": "eb738e99-d33a-4ea3-8357-7b50258c6405",
   "metadata": {},
   "outputs": [],
   "source": [
    "from keras.layers import Conv2D, MaxPooling2D, Dropout, Dense, Flatten\n",
    "\n",
    "model= keras.models.Sequential()\n",
    "model.add((Conv2D(60,(5,5),input_shape =(32, 32, 1),activation='relu')))  # ADDING MORE CONVOLUTION LAYERS = LESS FEATURES BUT CAN CAUSE ACCURACY TO INCREASE\n",
    "model.add((Conv2D(60, (5,5), activation='relu')))\n",
    "model.add(MaxPooling2D(pool_size=(2,2))) # DOES NOT EFFECT THE DEPTH/NO OF FILTERS\n",
    " \n",
    "model.add((Conv2D(30, (5,5),activation='relu')))\n",
    "model.add((Conv2D(30, (5,5), activation='relu')))\n",
    "model.add(MaxPooling2D(pool_size=(2,2)))\n",
    "model.add(Dropout(0.5))\n",
    " \n",
    "model.add(Flatten())\n",
    "model.add(Dense(500,activation='relu'))\n",
    "model.add(Dropout(0.5)) # INPUTS NODES TO DROP WITH EACH UPDATE 1 ALL 0 NONE\n",
    "model.add(Dense(43,activation='softmax')) # OUTPUT LAYER"
   ]
  },
  {
   "cell_type": "code",
   "execution_count": 35,
   "id": "7349af70-f3b8-456f-a86a-1cf8a8a1def5",
   "metadata": {},
   "outputs": [
    {
     "name": "stdout",
     "output_type": "stream",
     "text": [
      "Model: \"sequential\"\n",
      "_________________________________________________________________\n",
      "Layer (type)                 Output Shape              Param #   \n",
      "=================================================================\n",
      "conv2d (Conv2D)              (None, 28, 28, 60)        1560      \n",
      "_________________________________________________________________\n",
      "conv2d_1 (Conv2D)            (None, 24, 24, 60)        90060     \n",
      "_________________________________________________________________\n",
      "max_pooling2d (MaxPooling2D) (None, 12, 12, 60)        0         \n",
      "_________________________________________________________________\n",
      "conv2d_2 (Conv2D)            (None, 8, 8, 30)          45030     \n",
      "_________________________________________________________________\n",
      "conv2d_3 (Conv2D)            (None, 4, 4, 30)          22530     \n",
      "_________________________________________________________________\n",
      "max_pooling2d_1 (MaxPooling2 (None, 2, 2, 30)          0         \n",
      "_________________________________________________________________\n",
      "dropout (Dropout)            (None, 2, 2, 30)          0         \n",
      "_________________________________________________________________\n",
      "flatten (Flatten)            (None, 120)               0         \n",
      "_________________________________________________________________\n",
      "dense (Dense)                (None, 500)               60500     \n",
      "_________________________________________________________________\n",
      "dropout_1 (Dropout)          (None, 500)               0         \n",
      "_________________________________________________________________\n",
      "dense_1 (Dense)              (None, 43)                21543     \n",
      "=================================================================\n",
      "Total params: 241,223\n",
      "Trainable params: 241,223\n",
      "Non-trainable params: 0\n",
      "_________________________________________________________________\n"
     ]
    }
   ],
   "source": [
    "model.summary()"
   ]
  },
  {
   "cell_type": "code",
   "execution_count": 42,
   "id": "6a4ef1b6-7486-4ec4-a781-a9615125dc62",
   "metadata": {},
   "outputs": [],
   "source": [
    "model.compile(optimizer = keras.optimizers.Adam(lr=0.001),loss='categorical_crossentropy',metrics=['accuracy'])"
   ]
  },
  {
   "cell_type": "markdown",
   "id": "58677fa9-11c8-4d26-8265-be10184d941e",
   "metadata": {},
   "source": [
    "### AUGMENTATAION OF IMAGES: TO MAKEIT MORE GENERIC"
   ]
  },
  {
   "cell_type": "code",
   "execution_count": 43,
   "id": "1e2e6259-c26e-413f-97d8-97230ae22405",
   "metadata": {},
   "outputs": [],
   "source": [
    "from keras.preprocessing.image import ImageDataGenerator\n",
    "dataGen= ImageDataGenerator(width_shift_range=0.1,   # 0.1 = 10%     IF MORE THAN 1 E.G 10 THEN IT REFFERS TO NO. OF  PIXELS EG 10 PIXELS\n",
    "                            height_shift_range=0.1,\n",
    "                            zoom_range=0.2,  # 0.2 MEANS CAN GO FROM 0.8 TO 1.2\n",
    "                            shear_range=0.1,  # MAGNITUDE OF SHEAR ANGLE\n",
    "                            rotation_range=10)  # DEGREES"
   ]
  },
  {
   "cell_type": "code",
   "execution_count": 47,
   "id": "603027c6-3dd4-4823-97ff-8921e4a96de1",
   "metadata": {},
   "outputs": [
    {
     "name": "stdout",
     "output_type": "stream",
     "text": [
      "Epoch 1/10\n",
      "696/696 [==============================] - 321s 461ms/step - loss: 1.4888 - accuracy: 0.5377 - val_loss: 0.5255 - val_accuracy: 0.8508\n",
      "Epoch 2/10\n",
      "696/696 [==============================] - 295s 424ms/step - loss: 0.9755 - accuracy: 0.6961 - val_loss: 0.2698 - val_accuracy: 0.9057\n",
      "Epoch 3/10\n",
      "696/696 [==============================] - 267s 384ms/step - loss: 0.7397 - accuracy: 0.7719 - val_loss: 0.1588 - val_accuracy: 0.9594\n",
      "Epoch 4/10\n",
      "696/696 [==============================] - 275s 396ms/step - loss: 0.6108 - accuracy: 0.8102 - val_loss: 0.1444 - val_accuracy: 0.9592\n",
      "Epoch 5/10\n",
      "696/696 [==============================] - 278s 400ms/step - loss: 0.5370 - accuracy: 0.8326 - val_loss: 0.1109 - val_accuracy: 0.9714\n",
      "Epoch 6/10\n",
      "696/696 [==============================] - 277s 397ms/step - loss: 0.4645 - accuracy: 0.8548 - val_loss: 0.0883 - val_accuracy: 0.9723\n",
      "Epoch 7/10\n",
      "696/696 [==============================] - 323s 465ms/step - loss: 0.4235 - accuracy: 0.8726 - val_loss: 0.0778 - val_accuracy: 0.9776\n",
      "Epoch 8/10\n",
      "696/696 [==============================] - 394s 566ms/step - loss: 0.3978 - accuracy: 0.8807 - val_loss: 0.0529 - val_accuracy: 0.9860\n",
      "Epoch 9/10\n",
      "696/696 [==============================] - 391s 561ms/step - loss: 0.3622 - accuracy: 0.8904 - val_loss: 0.0649 - val_accuracy: 0.9840\n",
      "Epoch 10/10\n",
      "696/696 [==============================] - 372s 535ms/step - loss: 0.3395 - accuracy: 0.8984 - val_loss: 0.0464 - val_accuracy: 0.9880\n"
     ]
    }
   ],
   "source": [
    "H = model.fit(dataGen.flow(X_train, y_train_n), epochs = 10,\n",
    "               batch_size =50,\n",
    "              validation_data=(X_valid, y_validation))"
   ]
  },
  {
   "cell_type": "code",
   "execution_count": 48,
   "id": "0bd58638-2e7e-4077-9747-a93aa87362ed",
   "metadata": {},
   "outputs": [
    {
     "name": "stdout",
     "output_type": "stream",
     "text": [
      "Model Saved\n"
     ]
    }
   ],
   "source": [
    "json_model = model.to_json()\n",
    "\n",
    "with open(\"model.json\", \"w\") as f:\n",
    "    f.write(json_model)\n",
    "\n",
    "model.save_weights(\"model.h5\")\n",
    "print(\"Model Saved\")\n"
   ]
  },
  {
   "cell_type": "code",
   "execution_count": null,
   "id": "385f5766-3627-43e4-87c6-6f3623668176",
   "metadata": {},
   "outputs": [],
   "source": [
    "json_model"
   ]
  },
  {
   "cell_type": "code",
   "execution_count": 49,
   "id": "65b56916-efb0-4293-b1c8-9eadfb594200",
   "metadata": {},
   "outputs": [
    {
     "data": {
      "image/png": "[encoded data removed]",
      "text/plain": [
       "<Figure size 432x288 with 1 Axes>"
      ]
     },
     "metadata": {
      "needs_background": "light"
     },
     "output_type": "display_data"
    },
    {
     "data": {
      "image/png": "[encoded data removed]",
      "text/plain": [
       "<Figure size 432x288 with 1 Axes>"
      ]
     },
     "metadata": {
      "needs_background": "light"
     },
     "output_type": "display_data"
    }
   ],
   "source": [
    "plt.figure(1)\n",
    "plt.plot(H.history['loss'])\n",
    "plt.plot(H.history['val_loss'])\n",
    "plt.legend(['training','validation'])\n",
    "plt.title('loss')\n",
    "plt.xlabel('epoch')\n",
    "plt.figure(2)\n",
    "plt.plot(H.history['accuracy'])\n",
    "plt.plot(H.history['val_accuracy'])\n",
    "plt.legend(['training','validation'])\n",
    "plt.title('Acurracy')\n",
    "plt.xlabel('epoch')\n",
    "plt.show()"
   ]
  },
  {
   "cell_type": "code",
   "execution_count": 50,
   "id": "51ebb260-c3ed-4fea-a119-21b126077495",
   "metadata": {},
   "outputs": [
    {
     "name": "stdout",
     "output_type": "stream",
     "text": [
      "Test Score: 0.049884870648384094\n",
      "Test Accuracy: 0.9870689511299133\n"
     ]
    }
   ],
   "source": [
    "score =model.evaluate(X_test,y_test_n,verbose=0)\n",
    "print('Test Score:',score[0])\n",
    "print('Test Accuracy:',score[1])"
   ]
  },
  {
   "cell_type": "code",
   "execution_count": null,
   "id": "306193e0-4119-4a0c-87c4-346b7fcf1bcb",
   "metadata": {},
   "outputs": [],
   "source": []
  }
 ],
 "metadata": {
  "kernelspec": {
   "display_name": "Python 3",
   "language": "python",
   "name": "python3"
  },
  "language_info": {
   "codemirror_mode": {
    "name": "ipython",
    "version": 3
   },
   "file_extension": ".py",
   "mimetype": "text/x-python",
   "name": "python",
   "nbconvert_exporter": "python",
   "pygments_lexer": "ipython3",
   "version": "3.8.10"
  }
 },
 "nbformat": 4,
 "nbformat_minor": 5
}
